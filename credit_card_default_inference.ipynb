{
 "cells": [
  {
   "cell_type": "markdown",
   "metadata": {},
   "source": [
    "# Credit Card Default Inference  \n",
    "\n",
    "Objective   : this notebook is to predict the inferenced data from [credit_card_default_inference.ipynb](credit_card_default_inference.ipynb) where the model training has been saved in pickle-- basically like a preliminary deployment before merged to the Dashboard Streamlit"
   ]
  },
  {
   "cell_type": "code",
   "execution_count": 1,
   "metadata": {},
   "outputs": [],
   "source": [
    "# Import the libraries that needed to be implemented\n",
    "import pandas as pd\n",
    "import numpy as np\n",
    "import pickle \n",
    "import json"
   ]
  },
  {
   "cell_type": "code",
   "execution_count": 2,
   "metadata": {},
   "outputs": [],
   "source": [
    "# Upload the saved model to be implemented in this notebook of inference\n",
    "with open('modelScaler.pkl', 'rb') as file_1:\n",
    "    modelScaler = pickle.load(file_1)\n",
    "with open('modelPCA.pkl', 'rb') as file_2:\n",
    "    modelPCA = pickle.load(file_2)\n",
    "with open('modelKM.pkl', 'rb') as file_3:\n",
    "    modelKM = pickle.load(file_3)\n",
    "with open('numCol.txt', 'r') as file_4: \n",
    "    numCol = json.load(file_4)"
   ]
  },
  {
   "cell_type": "code",
   "execution_count": 3,
   "metadata": {},
   "outputs": [
    {
     "data": {
      "application/vnd.microsoft.datawrangler.viewer.v0+json": {
       "columns": [
        {
         "name": "index",
         "rawType": "int64",
         "type": "integer"
        },
        {
         "name": "CUST_ID",
         "rawType": "int64",
         "type": "integer"
        },
        {
         "name": "BALANCE",
         "rawType": "int64",
         "type": "integer"
        },
        {
         "name": "BALANCE_FREQUENCY",
         "rawType": "int64",
         "type": "integer"
        },
        {
         "name": "PURCHASES",
         "rawType": "int64",
         "type": "integer"
        },
        {
         "name": "ONEOFF_PURCHASES",
         "rawType": "int64",
         "type": "integer"
        },
        {
         "name": "INSTALLMENTS_PURCHASES",
         "rawType": "int64",
         "type": "integer"
        },
        {
         "name": "CASH_ADVANCE",
         "rawType": "int64",
         "type": "integer"
        },
        {
         "name": "PURCHASES_FREQUENCY",
         "rawType": "int64",
         "type": "integer"
        },
        {
         "name": "ONEOFF_PURCHASES_FREQUENCY",
         "rawType": "int64",
         "type": "integer"
        },
        {
         "name": "PURCHASES_INSTALLMENTS_FREQUENCY",
         "rawType": "int64",
         "type": "integer"
        },
        {
         "name": "CASH_ADVANCE_FREQUENCY",
         "rawType": "int64",
         "type": "integer"
        },
        {
         "name": "CASH_ADVANCE_TRX",
         "rawType": "int64",
         "type": "integer"
        },
        {
         "name": "PURCHASES_TRX",
         "rawType": "int64",
         "type": "integer"
        },
        {
         "name": "CREDIT_LIMIT",
         "rawType": "int64",
         "type": "integer"
        },
        {
         "name": "PAYMENTS",
         "rawType": "int64",
         "type": "integer"
        },
        {
         "name": "MINIMUM_PAYMENTS",
         "rawType": "int64",
         "type": "integer"
        },
        {
         "name": "PRC_FULL_PAYMENT",
         "rawType": "float64",
         "type": "float"
        },
        {
         "name": "TENURE",
         "rawType": "int64",
         "type": "integer"
        }
       ],
       "ref": "9c12a43d-5901-4286-b754-fb080c960654",
       "rows": [
        [
         "0",
         "27",
         "15000",
         "2",
         "270",
         "99",
         "50",
         "3000",
         "2",
         "3",
         "1",
         "3",
         "27",
         "1",
         "30000",
         "200",
         "100",
         "0.5",
         "10"
        ]
       ],
       "shape": {
        "columns": 18,
        "rows": 1
       }
      },
      "text/html": [
       "<div>\n",
       "<style scoped>\n",
       "    .dataframe tbody tr th:only-of-type {\n",
       "        vertical-align: middle;\n",
       "    }\n",
       "\n",
       "    .dataframe tbody tr th {\n",
       "        vertical-align: top;\n",
       "    }\n",
       "\n",
       "    .dataframe thead th {\n",
       "        text-align: right;\n",
       "    }\n",
       "</style>\n",
       "<table border=\"1\" class=\"dataframe\">\n",
       "  <thead>\n",
       "    <tr style=\"text-align: right;\">\n",
       "      <th></th>\n",
       "      <th>CUST_ID</th>\n",
       "      <th>BALANCE</th>\n",
       "      <th>BALANCE_FREQUENCY</th>\n",
       "      <th>PURCHASES</th>\n",
       "      <th>ONEOFF_PURCHASES</th>\n",
       "      <th>INSTALLMENTS_PURCHASES</th>\n",
       "      <th>CASH_ADVANCE</th>\n",
       "      <th>PURCHASES_FREQUENCY</th>\n",
       "      <th>ONEOFF_PURCHASES_FREQUENCY</th>\n",
       "      <th>PURCHASES_INSTALLMENTS_FREQUENCY</th>\n",
       "      <th>CASH_ADVANCE_FREQUENCY</th>\n",
       "      <th>CASH_ADVANCE_TRX</th>\n",
       "      <th>PURCHASES_TRX</th>\n",
       "      <th>CREDIT_LIMIT</th>\n",
       "      <th>PAYMENTS</th>\n",
       "      <th>MINIMUM_PAYMENTS</th>\n",
       "      <th>PRC_FULL_PAYMENT</th>\n",
       "      <th>TENURE</th>\n",
       "    </tr>\n",
       "  </thead>\n",
       "  <tbody>\n",
       "    <tr>\n",
       "      <th>0</th>\n",
       "      <td>27</td>\n",
       "      <td>15000</td>\n",
       "      <td>2</td>\n",
       "      <td>270</td>\n",
       "      <td>99</td>\n",
       "      <td>50</td>\n",
       "      <td>3000</td>\n",
       "      <td>2</td>\n",
       "      <td>3</td>\n",
       "      <td>1</td>\n",
       "      <td>3</td>\n",
       "      <td>27</td>\n",
       "      <td>1</td>\n",
       "      <td>30000</td>\n",
       "      <td>200</td>\n",
       "      <td>100</td>\n",
       "      <td>0.5</td>\n",
       "      <td>10</td>\n",
       "    </tr>\n",
       "  </tbody>\n",
       "</table>\n",
       "</div>"
      ],
      "text/plain": [
       "   CUST_ID  BALANCE  BALANCE_FREQUENCY  PURCHASES  ONEOFF_PURCHASES  \\\n",
       "0       27    15000                  2        270                99   \n",
       "\n",
       "   INSTALLMENTS_PURCHASES  CASH_ADVANCE  PURCHASES_FREQUENCY  \\\n",
       "0                      50          3000                    2   \n",
       "\n",
       "   ONEOFF_PURCHASES_FREQUENCY  PURCHASES_INSTALLMENTS_FREQUENCY  \\\n",
       "0                           3                                 1   \n",
       "\n",
       "   CASH_ADVANCE_FREQUENCY  CASH_ADVANCE_TRX  PURCHASES_TRX  CREDIT_LIMIT  \\\n",
       "0                       3                27              1         30000   \n",
       "\n",
       "   PAYMENTS  MINIMUM_PAYMENTS  PRC_FULL_PAYMENT  TENURE  \n",
       "0       200               100               0.5      10  "
      ]
     },
     "execution_count": 3,
     "metadata": {},
     "output_type": "execute_result"
    }
   ],
   "source": [
    "# Merged the column's name after being renamed\n",
    "dfInf = {'CUST_ID': 27,\n",
    "         'BALANCE': 15000,\n",
    "         'BALANCE_FREQUENCY': 2,\n",
    "         'PURCHASES': 270,\n",
    "         'ONEOFF_PURCHASES': 99,\n",
    "         'INSTALLMENTS_PURCHASES': 50,\n",
    "         'CASH_ADVANCE': 3000,\n",
    "         'PURCHASES_FREQUENCY': 2,\n",
    "         'ONEOFF_PURCHASES_FREQUENCY': 3,\n",
    "         'PURCHASES_INSTALLMENTS_FREQUENCY': 1,\n",
    "         'CASH_ADVANCE_FREQUENCY': 3,\n",
    "         'CASH_ADVANCE_TRX': 27,\n",
    "         'PURCHASES_TRX': 1,\n",
    "         'CREDIT_LIMIT': 30000,\n",
    "         'PAYMENTS': 200,\n",
    "         'MINIMUM_PAYMENTS': 100,\n",
    "         'PRC_FULL_PAYMENT': 0.5,\n",
    "         'TENURE': 10}\n",
    "\n",
    "dfInf = pd.DataFrame([dfInf])\n",
    "dfInf"
   ]
  },
  {
   "cell_type": "code",
   "execution_count": 4,
   "metadata": {},
   "outputs": [],
   "source": [
    "dfInfNum = dfInf[numCol]\n"
   ]
  },
  {
   "cell_type": "code",
   "execution_count": 5,
   "metadata": {},
   "outputs": [
    {
     "data": {
      "application/vnd.microsoft.datawrangler.viewer.v0+json": {
       "columns": [
        {
         "name": "index",
         "rawType": "int64",
         "type": "integer"
        },
        {
         "name": "BALANCE",
         "rawType": "int64",
         "type": "integer"
        },
        {
         "name": "PURCHASES",
         "rawType": "int64",
         "type": "integer"
        },
        {
         "name": "ONEOFF_PURCHASES",
         "rawType": "int64",
         "type": "integer"
        },
        {
         "name": "INSTALLMENTS_PURCHASES",
         "rawType": "int64",
         "type": "integer"
        },
        {
         "name": "CASH_ADVANCE",
         "rawType": "int64",
         "type": "integer"
        },
        {
         "name": "CASH_ADVANCE_TRX",
         "rawType": "int64",
         "type": "integer"
        },
        {
         "name": "PURCHASES_TRX",
         "rawType": "int64",
         "type": "integer"
        },
        {
         "name": "CREDIT_LIMIT",
         "rawType": "int64",
         "type": "integer"
        },
        {
         "name": "PAYMENTS",
         "rawType": "int64",
         "type": "integer"
        },
        {
         "name": "MINIMUM_PAYMENTS",
         "rawType": "int64",
         "type": "integer"
        },
        {
         "name": "PRC_FULL_PAYMENT",
         "rawType": "float64",
         "type": "float"
        },
        {
         "name": "TENURE",
         "rawType": "int64",
         "type": "integer"
        }
       ],
       "ref": "6f11a02d-18f1-4bb9-8512-2d31cebd7860",
       "rows": [
        [
         "0",
         "15000",
         "270",
         "99",
         "50",
         "3000",
         "27",
         "1",
         "30000",
         "200",
         "100",
         "0.5",
         "10"
        ]
       ],
       "shape": {
        "columns": 12,
        "rows": 1
       }
      },
      "text/html": [
       "<div>\n",
       "<style scoped>\n",
       "    .dataframe tbody tr th:only-of-type {\n",
       "        vertical-align: middle;\n",
       "    }\n",
       "\n",
       "    .dataframe tbody tr th {\n",
       "        vertical-align: top;\n",
       "    }\n",
       "\n",
       "    .dataframe thead th {\n",
       "        text-align: right;\n",
       "    }\n",
       "</style>\n",
       "<table border=\"1\" class=\"dataframe\">\n",
       "  <thead>\n",
       "    <tr style=\"text-align: right;\">\n",
       "      <th></th>\n",
       "      <th>BALANCE</th>\n",
       "      <th>PURCHASES</th>\n",
       "      <th>ONEOFF_PURCHASES</th>\n",
       "      <th>INSTALLMENTS_PURCHASES</th>\n",
       "      <th>CASH_ADVANCE</th>\n",
       "      <th>CASH_ADVANCE_TRX</th>\n",
       "      <th>PURCHASES_TRX</th>\n",
       "      <th>CREDIT_LIMIT</th>\n",
       "      <th>PAYMENTS</th>\n",
       "      <th>MINIMUM_PAYMENTS</th>\n",
       "      <th>PRC_FULL_PAYMENT</th>\n",
       "      <th>TENURE</th>\n",
       "    </tr>\n",
       "  </thead>\n",
       "  <tbody>\n",
       "    <tr>\n",
       "      <th>0</th>\n",
       "      <td>15000</td>\n",
       "      <td>270</td>\n",
       "      <td>99</td>\n",
       "      <td>50</td>\n",
       "      <td>3000</td>\n",
       "      <td>27</td>\n",
       "      <td>1</td>\n",
       "      <td>30000</td>\n",
       "      <td>200</td>\n",
       "      <td>100</td>\n",
       "      <td>0.5</td>\n",
       "      <td>10</td>\n",
       "    </tr>\n",
       "  </tbody>\n",
       "</table>\n",
       "</div>"
      ],
      "text/plain": [
       "   BALANCE  PURCHASES  ONEOFF_PURCHASES  INSTALLMENTS_PURCHASES  CASH_ADVANCE  \\\n",
       "0    15000        270                99                      50          3000   \n",
       "\n",
       "   CASH_ADVANCE_TRX  PURCHASES_TRX  CREDIT_LIMIT  PAYMENTS  MINIMUM_PAYMENTS  \\\n",
       "0                27              1         30000       200               100   \n",
       "\n",
       "   PRC_FULL_PAYMENT  TENURE  \n",
       "0               0.5      10  "
      ]
     },
     "execution_count": 5,
     "metadata": {},
     "output_type": "execute_result"
    }
   ],
   "source": [
    "dfInfNum"
   ]
  },
  {
   "cell_type": "code",
   "execution_count": 6,
   "metadata": {},
   "outputs": [],
   "source": [
    "dfInfScaled = modelScaler.transform(dfInfNum)"
   ]
  },
  {
   "cell_type": "code",
   "execution_count": 7,
   "metadata": {},
   "outputs": [],
   "source": [
    "dfInfScaledpca = modelPCA.transform(dfInfScaled)"
   ]
  },
  {
   "cell_type": "code",
   "execution_count": 8,
   "metadata": {},
   "outputs": [
    {
     "data": {
      "text/plain": [
       "array([0], dtype=int32)"
      ]
     },
     "execution_count": 8,
     "metadata": {},
     "output_type": "execute_result"
    }
   ],
   "source": [
    "predClust = modelKM.predict(dfInfScaledpca)\n",
    "\n",
    "predClust"
   ]
  }
 ],
 "metadata": {
  "kernelspec": {
   "display_name": "base",
   "language": "python",
   "name": "python3"
  },
  "language_info": {
   "codemirror_mode": {
    "name": "ipython",
    "version": 3
   },
   "file_extension": ".py",
   "mimetype": "text/x-python",
   "name": "python",
   "nbconvert_exporter": "python",
   "pygments_lexer": "ipython3",
   "version": "3.13.5"
  }
 },
 "nbformat": 4,
 "nbformat_minor": 2
}
